{
 "cells": [
  {
   "cell_type": "markdown",
   "metadata": {},
   "source": [
    "# Trabalho 6 - Transformada de Fourier e realce no domínio da frequência\n",
    "\n",
    "Faça as seguintes simulações no jupyther notebook e aproveite os recursos disponíveis para explicar os fundamentos e resultados obtidos\n",
    "\n",
    "### (1) Série de Fourier de função unidimensional\n",
    "\n",
    "A função triangular, representada pelo gráfico a seguir, é uma função periódica. Esta classe de funções pode ser representa através de uma série de Fourier.\n",
    "\n",
    "![](../images/GraficoFuncaoTriangular.png)\n",
    "\n",
    "A série de Fourier que representa esta função é dada pela seguinte equação:\n",
    "\n",
    "![](../images/triangularFuncao.png)\n",
    "\n",
    "Varie o número de senóides para apresentar graficamente diferentes aproximações da função triangular.\n",
    "\n",
    "[Referência](http://www.matematica.pucminas.br/profs/web_fabiano/calculo4/sf.pdf)\n",
    "\n",
    "### (2) Prova empírica da propriedade translação e mudança de fase\n",
    "\n",
    "* (2.1) - Crie duas imagens binárias contendo um mesmo objeto geométrico. A diferença entre as imagens é a translação em que o objeto aparece.\n",
    "* (2.2) - Calcule a o módulo da transformada de Fourier de cada uma das imagens\n",
    "* (2.3) - Faça a subtração entre estas imagens e a utilize para demostrar a propriedade  \n",
    "    \n",
    "    Referência: Gonzalez e Woods Processamento digital de Imagens\n",
    "\n",
    "### (3) Filtragem de Fourier pegue uma fotografia de sua autoria.\n",
    "\n",
    "Execute a filtragem passa-baixa de Fourier desta imagem usando os filtros Butterworth e Ideal.\n",
    "\n",
    "Compare os resultados obtidos em termos dos fundamentos teóricos correspondentes. \n",
    "\n",
    "Referência: Gonzalez e Woods Processamento digital de Imagens\n",
    "\n",
    "### (4) Filtros espaciais aproximados\n",
    "\n",
    "Utilizando a imagem e o filtro de Butterworth empregados no exercício anterior, obtenha filtros aproximados no domínio espacial de dimensões nxn . Para este valor de n calcule o somatório do erro quadrático da diferença entre os resultados obtidos pelo filtro exato e o aproximado. Repita este procedimento para diferentes valores de n e trace o gráfico n x SSE. Analise e explique os resultados obtidos. "
   ]
  },
  {
   "cell_type": "markdown",
   "metadata": {},
   "source": [
    "-------\n",
    "\n",
    "## (1) Série de Fourier\n",
    "\n",
    "Uma função periódica pode ser escrita por uma série de Fourier. A seguir mostraremos o resultado de uma série de Fourier, ao variar o número de senóides de sua expansão.\n",
    "\n",
    "Partiremos da seguinte equação:\n",
    "\n",
    "$$\n",
    "\\begin{equation}\n",
    "    f(x) \\sim \\frac{1}{2} - \\frac{4}{\\pi^{2}}\\sum^{\\infty}_{k = 0}\\frac{1}{(2k - 1)^{2}}\\sin[(2k - 1)\\pi x],\n",
    "\\end{equation}\n",
    "$$\n",
    "\n",
    "em que variar o número de senóides significa aumentar os termos do somatório.\n",
    "\n"
   ]
  },
  {
   "cell_type": "code",
   "execution_count": null,
   "metadata": {},
   "outputs": [],
   "source": [
    "def plota(img):\n",
    "    num = len(img)\n",
    "    fig = plt.figure(figsize = (15, 9))\n",
    "    grid = plt.GridSpec(1, num, fig)\n",
    "    \n",
    "    for i in range(num):\n",
    "        ax = fig.add_subplot(grid[0, i])\n",
    "        ax.imshow(img[i], cmap = 'gray')\n",
    "        ax.set_xticks([])\n",
    "        ax.set_yticks([])\n",
    "    \n",
    "    return fig"
   ]
  },
  {
   "cell_type": "code",
   "execution_count": null,
   "metadata": {},
   "outputs": [],
   "source": []
  }
 ],
 "metadata": {
  "kernelspec": {
   "display_name": "Python 3",
   "language": "python",
   "name": "python3"
  },
  "language_info": {
   "codemirror_mode": {
    "name": "ipython",
    "version": 3
   },
   "file_extension": ".py",
   "mimetype": "text/x-python",
   "name": "python",
   "nbconvert_exporter": "python",
   "pygments_lexer": "ipython3",
   "version": "3.7.3"
  }
 },
 "nbformat": 4,
 "nbformat_minor": 2
}
