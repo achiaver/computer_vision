{
 "cells": [
  {
   "cell_type": "code",
   "execution_count": 1,
   "metadata": {},
   "outputs": [],
   "source": [
    "from PIL import Image, ImageDraw\n",
    "from math import sqrt, pi, cos, sin\n",
    "from canny import canny_edge_detector\n",
    "from collections import defaultdict"
   ]
  },
  {
   "cell_type": "markdown",
   "metadata": {},
   "source": [
    "# Load image:"
   ]
  },
  {
   "cell_type": "code",
   "execution_count": 10,
   "metadata": {},
   "outputs": [],
   "source": [
    "input_image = Image.open(\"../images/diff_sob_bin.png\")"
   ]
  },
  {
   "cell_type": "markdown",
   "metadata": {},
   "source": [
    "# Output image:"
   ]
  },
  {
   "cell_type": "code",
   "execution_count": 11,
   "metadata": {},
   "outputs": [],
   "source": [
    "output_image = Image.new(\"RGB\", input_image.size)\n",
    "output_image.paste(input_image)\n",
    "draw_result = ImageDraw.Draw(output_image)"
   ]
  },
  {
   "cell_type": "markdown",
   "metadata": {},
   "source": [
    "# Find circles"
   ]
  },
  {
   "cell_type": "code",
   "execution_count": 12,
   "metadata": {},
   "outputs": [],
   "source": [
    "rmin = 0\n",
    "rmax = 100\n",
    "steps = 100\n",
    "threshold = 0.4"
   ]
  },
  {
   "cell_type": "code",
   "execution_count": 13,
   "metadata": {},
   "outputs": [],
   "source": [
    "points = []\n",
    "for r in range(rmin, rmax + 1):\n",
    "    for t in range(steps):\n",
    "        points.append((r, int(r * cos(2 * pi * t / steps)), int(r * sin(2 * pi * t / steps))))"
   ]
  },
  {
   "cell_type": "code",
   "execution_count": 14,
   "metadata": {},
   "outputs": [
    {
     "name": "stderr",
     "output_type": "stream",
     "text": [
      "Exception ignored in: <function Image.__del__ at 0x7f20005cb048>\n",
      "Traceback (most recent call last):\n",
      "  File \"/home/artur/.local/lib/python3.7/site-packages/PIL/Image.py\", line 617, in __del__\n",
      "    def __del__(self):\n",
      "KeyboardInterrupt\n"
     ]
    }
   ],
   "source": [
    "acc = defaultdict(int)\n",
    "for x, y in canny_edge_detector(input_image):\n",
    "    for r, dx, dy in points:\n",
    "        a = x - dx\n",
    "        b = y - dy\n",
    "        acc[(a, b, r)] += 1"
   ]
  },
  {
   "cell_type": "code",
   "execution_count": null,
   "metadata": {},
   "outputs": [],
   "source": [
    "circles = []\n",
    "for k, v in sorted(acc.items(), key=lambda i: -i[1]):\n",
    "    x, y, r = k\n",
    "    if v / steps >= threshold and all((x - xc) ** 2 + (y - yc) ** 2 > rc ** 2 for xc, yc, rc in circles):\n",
    "        print(v / steps, x, y, r)\n",
    "        circles.append((x, y, r))"
   ]
  },
  {
   "cell_type": "code",
   "execution_count": 8,
   "metadata": {},
   "outputs": [],
   "source": [
    "for x, y, r in circles:\n",
    "    draw_result.ellipse((x-r, y-r, x+r, y+r), outline=(255,0,0,0))"
   ]
  },
  {
   "cell_type": "markdown",
   "metadata": {},
   "source": [
    "# Save output image"
   ]
  },
  {
   "cell_type": "code",
   "execution_count": 9,
   "metadata": {},
   "outputs": [],
   "source": [
    "# output_image.save(\"../images/result_2.png\")"
   ]
  },
  {
   "cell_type": "code",
   "execution_count": null,
   "metadata": {},
   "outputs": [],
   "source": []
  }
 ],
 "metadata": {
  "kernelspec": {
   "display_name": "Python 3",
   "language": "python",
   "name": "python3"
  },
  "language_info": {
   "codemirror_mode": {
    "name": "ipython",
    "version": 3
   },
   "file_extension": ".py",
   "mimetype": "text/x-python",
   "name": "python",
   "nbconvert_exporter": "python",
   "pygments_lexer": "ipython3",
   "version": "3.7.3"
  }
 },
 "nbformat": 4,
 "nbformat_minor": 2
}
