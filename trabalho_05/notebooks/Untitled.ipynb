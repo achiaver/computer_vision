{
 "cells": [
  {
   "cell_type": "code",
   "execution_count": 131,
   "metadata": {},
   "outputs": [],
   "source": [
    "import numpy as np\n",
    "import matplotlib.pyplot as plt\n",
    "\n",
    "from collections import defaultdict\n",
    "\n",
    "from PIL import Image, ImageDraw"
   ]
  },
  {
   "cell_type": "code",
   "execution_count": 146,
   "metadata": {},
   "outputs": [],
   "source": [
    "cc = np.array([[1000 == np.round((x - 50)**2 + (y - 50)**2) for y in range(0, 101)] for x in range(0, 101)]).astype(np.uint8)"
   ]
  },
  {
   "cell_type": "code",
   "execution_count": 147,
   "metadata": {},
   "outputs": [
    {
     "data": {
      "image/png": "[encoded data removed]",
      "text/plain": [
       "<Figure size 432x288 with 1 Axes>"
      ]
     },
     "metadata": {},
     "output_type": "display_data"
    }
   ],
   "source": [
    "plt.imshow(cc, cmap = 'gray')\n",
    "plt.xticks([])\n",
    "plt.yticks([])\n",
    "plt.show()"
   ]
  },
  {
   "cell_type": "code",
   "execution_count": 155,
   "metadata": {},
   "outputs": [],
   "source": [
    "t = np.linspace(0, 2*np.pi, 100)\n",
    "r = np.linspace(0, np.ceil(100*np.sqrt(2)), 100)"
   ]
  },
  {
   "cell_type": "code",
   "execution_count": 156,
   "metadata": {},
   "outputs": [
    {
     "data": {
      "text/plain": [
       "array([0.        , 0.06346652, 0.12693304, 0.19039955, 0.25386607,\n",
       "       0.31733259, 0.38079911, 0.44426563, 0.50773215, 0.57119866,\n",
       "       0.63466518, 0.6981317 , 0.76159822, 0.82506474, 0.88853126,\n",
       "       0.95199777, 1.01546429, 1.07893081, 1.14239733, 1.20586385,\n",
       "       1.26933037, 1.33279688, 1.3962634 , 1.45972992, 1.52319644,\n",
       "       1.58666296, 1.65012947, 1.71359599, 1.77706251, 1.84052903,\n",
       "       1.90399555, 1.96746207, 2.03092858, 2.0943951 , 2.15786162,\n",
       "       2.22132814, 2.28479466, 2.34826118, 2.41172769, 2.47519421,\n",
       "       2.53866073, 2.60212725, 2.66559377, 2.72906028, 2.7925268 ,\n",
       "       2.85599332, 2.91945984, 2.98292636, 3.04639288, 3.10985939,\n",
       "       3.17332591, 3.23679243, 3.30025895, 3.36372547, 3.42719199,\n",
       "       3.4906585 , 3.55412502, 3.61759154, 3.68105806, 3.74452458,\n",
       "       3.8079911 , 3.87145761, 3.93492413, 3.99839065, 4.06185717,\n",
       "       4.12532369, 4.1887902 , 4.25225672, 4.31572324, 4.37918976,\n",
       "       4.44265628, 4.5061228 , 4.56958931, 4.63305583, 4.69652235,\n",
       "       4.75998887, 4.82345539, 4.88692191, 4.95038842, 5.01385494,\n",
       "       5.07732146, 5.14078798, 5.2042545 , 5.26772102, 5.33118753,\n",
       "       5.39465405, 5.45812057, 5.52158709, 5.58505361, 5.64852012,\n",
       "       5.71198664, 5.77545316, 5.83891968, 5.9023862 , 5.96585272,\n",
       "       6.02931923, 6.09278575, 6.15625227, 6.21971879, 6.28318531])"
      ]
     },
     "execution_count": 156,
     "metadata": {},
     "output_type": "execute_result"
    }
   ],
   "source": [
    "t"
   ]
  },
  {
   "cell_type": "code",
   "execution_count": 157,
   "metadata": {},
   "outputs": [
    {
     "data": {
      "text/plain": [
       "array([  0.        ,   1.43434343,   2.86868687,   4.3030303 ,\n",
       "         5.73737374,   7.17171717,   8.60606061,  10.04040404,\n",
       "        11.47474747,  12.90909091,  14.34343434,  15.77777778,\n",
       "        17.21212121,  18.64646465,  20.08080808,  21.51515152,\n",
       "        22.94949495,  24.38383838,  25.81818182,  27.25252525,\n",
       "        28.68686869,  30.12121212,  31.55555556,  32.98989899,\n",
       "        34.42424242,  35.85858586,  37.29292929,  38.72727273,\n",
       "        40.16161616,  41.5959596 ,  43.03030303,  44.46464646,\n",
       "        45.8989899 ,  47.33333333,  48.76767677,  50.2020202 ,\n",
       "        51.63636364,  53.07070707,  54.50505051,  55.93939394,\n",
       "        57.37373737,  58.80808081,  60.24242424,  61.67676768,\n",
       "        63.11111111,  64.54545455,  65.97979798,  67.41414141,\n",
       "        68.84848485,  70.28282828,  71.71717172,  73.15151515,\n",
       "        74.58585859,  76.02020202,  77.45454545,  78.88888889,\n",
       "        80.32323232,  81.75757576,  83.19191919,  84.62626263,\n",
       "        86.06060606,  87.49494949,  88.92929293,  90.36363636,\n",
       "        91.7979798 ,  93.23232323,  94.66666667,  96.1010101 ,\n",
       "        97.53535354,  98.96969697, 100.4040404 , 101.83838384,\n",
       "       103.27272727, 104.70707071, 106.14141414, 107.57575758,\n",
       "       109.01010101, 110.44444444, 111.87878788, 113.31313131,\n",
       "       114.74747475, 116.18181818, 117.61616162, 119.05050505,\n",
       "       120.48484848, 121.91919192, 123.35353535, 124.78787879,\n",
       "       126.22222222, 127.65656566, 129.09090909, 130.52525253,\n",
       "       131.95959596, 133.39393939, 134.82828283, 136.26262626,\n",
       "       137.6969697 , 139.13131313, 140.56565657, 142.        ])"
      ]
     },
     "execution_count": 157,
     "metadata": {},
     "output_type": "execute_result"
    }
   ],
   "source": [
    "r"
   ]
  },
  {
   "cell_type": "code",
   "execution_count": 158,
   "metadata": {},
   "outputs": [],
   "source": [
    "def afunc(x, r, t):\n",
    "    return x - np.atleast_2d(r).T @ np.atleast_2d(np.cos(t))\n",
    "\n",
    "def bfunc(y, r, t):\n",
    "    return y - np.atleast_2d(r).T @ np.atleast_2d(np.sin(t))\n",
    "\n",
    "ab = np.zeros([250,250])"
   ]
  },
  {
   "cell_type": "code",
   "execution_count": 159,
   "metadata": {},
   "outputs": [],
   "source": [
    "xx, yy = np.mgrid[:100,:100]"
   ]
  },
  {
   "cell_type": "code",
   "execution_count": 160,
   "metadata": {
    "scrolled": true
   },
   "outputs": [
    {
     "data": {
      "text/plain": [
       "283.9285090184123"
      ]
     },
     "execution_count": 160,
     "metadata": {},
     "output_type": "execute_result"
    }
   ],
   "source": [
    "x = 10\n",
    "np.max(afunc(x, r, t) + np.abs(np.min(afunc(x,r,t))))"
   ]
  },
  {
   "cell_type": "code",
   "execution_count": 161,
   "metadata": {},
   "outputs": [],
   "source": [
    "y = 20"
   ]
  },
  {
   "cell_type": "code",
   "execution_count": 162,
   "metadata": {},
   "outputs": [
    {
     "data": {
      "text/plain": [
       "<matplotlib.image.AxesImage at 0x1147bffd0>"
      ]
     },
     "execution_count": 162,
     "metadata": {},
     "output_type": "execute_result"
    },
    {
     "data": {
      "image/png": "[encoded data removed]",
      "text/plain": [
       "<Figure size 432x288 with 1 Axes>"
      ]
     },
     "metadata": {
      "needs_background": "light"
     },
     "output_type": "display_data"
    }
   ],
   "source": [
    "plt.imshow(bfunc(y, r, t))"
   ]
  },
  {
   "cell_type": "code",
   "execution_count": 163,
   "metadata": {},
   "outputs": [
    {
     "data": {
      "text/plain": [
       "array([[  10.        ,   10.        ,   10.        , ...,   10.        ,\n",
       "          10.        ,   10.        ],\n",
       "       [   8.56565657,    8.56854436,    8.57719613, ...,    8.57719613,\n",
       "           8.56854436,    8.56565657],\n",
       "       [   7.13131313,    7.13708873,    7.15439225, ...,    7.15439225,\n",
       "           7.13708873,    7.13131313],\n",
       "       ...,\n",
       "       [-129.13131313, -128.85119679, -128.01197568, ..., -128.01197568,\n",
       "        -128.85119679, -129.13131313],\n",
       "       [-130.56565657, -130.28265242, -129.43477955, ..., -129.43477955,\n",
       "        -130.28265242, -130.56565657],\n",
       "       [-132.        , -131.71410806, -130.85758342, ..., -130.85758342,\n",
       "        -131.71410806, -132.        ]])"
      ]
     },
     "execution_count": 163,
     "metadata": {},
     "output_type": "execute_result"
    }
   ],
   "source": [
    "afunc(x, r, t)"
   ]
  },
  {
   "cell_type": "code",
   "execution_count": 164,
   "metadata": {},
   "outputs": [
    {
     "data": {
      "text/plain": [
       "array([[20.        , 20.        , 20.        , ..., 20.        ,\n",
       "        20.        , 20.        ],\n",
       "       [20.        , 19.90902832, 19.81842295, ..., 20.18157705,\n",
       "        20.09097168, 20.        ],\n",
       "       [20.        , 19.81805663, 19.63684589, ..., 20.36315411,\n",
       "        20.18194337, 20.        ],\n",
       "       ...,\n",
       "       [20.        , 11.17574677,  2.3870257 , ..., 37.6129743 ,\n",
       "        28.82425323, 20.        ],\n",
       "       [20.        , 11.08477509,  2.20544865, ..., 37.79455135,\n",
       "        28.91522491, 20.        ],\n",
       "       [20.        , 10.99380341,  2.02387159, ..., 37.97612841,\n",
       "        29.00619659, 20.        ]])"
      ]
     },
     "execution_count": 164,
     "metadata": {},
     "output_type": "execute_result"
    }
   ],
   "source": [
    "bfunc(y,r,t)"
   ]
  },
  {
   "cell_type": "code",
   "execution_count": 165,
   "metadata": {},
   "outputs": [
    {
     "data": {
      "text/plain": [
       "array([  0.        ,   1.43434343,   2.86868687,   4.3030303 ,\n",
       "         5.73737374,   7.17171717,   8.60606061,  10.04040404,\n",
       "        11.47474747,  12.90909091,  14.34343434,  15.77777778,\n",
       "        17.21212121,  18.64646465,  20.08080808,  21.51515152,\n",
       "        22.94949495,  24.38383838,  25.81818182,  27.25252525,\n",
       "        28.68686869,  30.12121212,  31.55555556,  32.98989899,\n",
       "        34.42424242,  35.85858586,  37.29292929,  38.72727273,\n",
       "        40.16161616,  41.5959596 ,  43.03030303,  44.46464646,\n",
       "        45.8989899 ,  47.33333333,  48.76767677,  50.2020202 ,\n",
       "        51.63636364,  53.07070707,  54.50505051,  55.93939394,\n",
       "        57.37373737,  58.80808081,  60.24242424,  61.67676768,\n",
       "        63.11111111,  64.54545455,  65.97979798,  67.41414141,\n",
       "        68.84848485,  70.28282828,  71.71717172,  73.15151515,\n",
       "        74.58585859,  76.02020202,  77.45454545,  78.88888889,\n",
       "        80.32323232,  81.75757576,  83.19191919,  84.62626263,\n",
       "        86.06060606,  87.49494949,  88.92929293,  90.36363636,\n",
       "        91.7979798 ,  93.23232323,  94.66666667,  96.1010101 ,\n",
       "        97.53535354,  98.96969697, 100.4040404 , 101.83838384,\n",
       "       103.27272727, 104.70707071, 106.14141414, 107.57575758,\n",
       "       109.01010101, 110.44444444, 111.87878788, 113.31313131,\n",
       "       114.74747475, 116.18181818, 117.61616162, 119.05050505,\n",
       "       120.48484848, 121.91919192, 123.35353535, 124.78787879,\n",
       "       126.22222222, 127.65656566, 129.09090909, 130.52525253,\n",
       "       131.95959596, 133.39393939, 134.82828283, 136.26262626,\n",
       "       137.6969697 , 139.13131313, 140.56565657, 142.        ])"
      ]
     },
     "execution_count": 165,
     "metadata": {},
     "output_type": "execute_result"
    }
   ],
   "source": [
    "r"
   ]
  },
  {
   "cell_type": "code",
   "execution_count": 351,
   "metadata": {},
   "outputs": [],
   "source": [
    "steps = 51\n",
    "points = []"
   ]
  },
  {
   "cell_type": "code",
   "execution_count": 352,
   "metadata": {},
   "outputs": [],
   "source": [
    "for rr in range(20, 51):\n",
    "    for t in range(steps):\n",
    "        points.append((rr, int(rr * np.cos(2 * np.pi * t / steps)), int(rr * np.sin(2 * np.pi * t / steps))))"
   ]
  },
  {
   "cell_type": "code",
   "execution_count": 353,
   "metadata": {},
   "outputs": [],
   "source": [
    "xyr = np.zeros([101,101,101])"
   ]
  },
  {
   "cell_type": "code",
   "execution_count": 354,
   "metadata": {},
   "outputs": [],
   "source": [
    "pts = np.array(points)"
   ]
  },
  {
   "cell_type": "code",
   "execution_count": 355,
   "metadata": {},
   "outputs": [],
   "source": [
    "acc = defaultdict(int)"
   ]
  },
  {
   "cell_type": "code",
   "execution_count": 356,
   "metadata": {},
   "outputs": [],
   "source": [
    "for cx in np.arange(101):\n",
    "    for cy in np.arange(101):\n",
    "        if cc[cx, cy] > 0:    \n",
    "            for r, x, y in points:\n",
    "                if ((x + cx) > 99) or ((x + cx) < 0): continue\n",
    "                if ((y + cy) > 99) or ((y + cy) < 0): continue\n",
    "                xyr[x + cx, y + cy, r] += 1\n",
    "                acc[(x + cx, y + cy, r)] += 1"
   ]
  },
  {
   "cell_type": "code",
   "execution_count": 357,
   "metadata": {},
   "outputs": [
    {
     "data": {
      "text/plain": [
       "<matplotlib.image.AxesImage at 0x116c4c748>"
      ]
     },
     "execution_count": 357,
     "metadata": {},
     "output_type": "execute_result"
    },
    {
     "data": {
      "image/png": "[encoded data removed]",
      "text/plain": [
       "<Figure size 432x288 with 1 Axes>"
      ]
     },
     "metadata": {
      "needs_background": "light"
     },
     "output_type": "display_data"
    }
   ],
   "source": [
    "plt.imshow(xyr[:, :, 31])"
   ]
  },
  {
   "cell_type": "code",
   "execution_count": 358,
   "metadata": {},
   "outputs": [
    {
     "data": {
      "text/plain": [
       "<matplotlib.colorbar.Colorbar at 0x118b20630>"
      ]
     },
     "execution_count": 358,
     "metadata": {},
     "output_type": "execute_result"
    },
    {
     "data": {
      "image/png": "[encoded data removed]",
      "text/plain": [
       "<Figure size 720x720 with 2 Axes>"
      ]
     },
     "metadata": {
      "needs_background": "light"
     },
     "output_type": "display_data"
    }
   ],
   "source": [
    "fig = plt.figure(figsize=(10,10))\n",
    "plt.imshow(xyr.sum(axis=2))\n",
    "plt.colorbar()"
   ]
  },
  {
   "cell_type": "code",
   "execution_count": 359,
   "metadata": {},
   "outputs": [],
   "source": [
    "threshold = 0.04"
   ]
  },
  {
   "cell_type": "code",
   "execution_count": 361,
   "metadata": {},
   "outputs": [
    {
     "name": "stdout",
     "output_type": "stream",
     "text": [
      "0.0784313725490196 50 51 33\n"
     ]
    }
   ],
   "source": [
    "circles = []\n",
    "for k, v in sorted(acc.items(), key=lambda i: -i[1]):\n",
    "#     print(k, v)\n",
    "    x, y, r = k\n",
    "    if v / steps >= threshold and all((x - xc) ** 2 + (y - yc) ** 2 > rc ** 2 for xc, yc, rc in circles):\n",
    "        print(v / steps, x, y, r)\n",
    "        circles.append((x, y, r))"
   ]
  },
  {
   "cell_type": "code",
   "execution_count": 362,
   "metadata": {},
   "outputs": [],
   "source": [
    "input_image = Image.fromarray(np.uint8(cc*255))"
   ]
  },
  {
   "cell_type": "code",
   "execution_count": 363,
   "metadata": {},
   "outputs": [],
   "source": [
    "output_image = Image.new(\"RGB\", input_image.size)\n",
    "output_image.paste(input_image)\n",
    "draw_result = ImageDraw.Draw(output_image)"
   ]
  },
  {
   "cell_type": "code",
   "execution_count": 364,
   "metadata": {},
   "outputs": [],
   "source": [
    "for x, y, r in circles:\n",
    "    draw_result.ellipse((x-r, y-r, x+r, y+r), outline=(255,0,0,0))"
   ]
  },
  {
   "cell_type": "code",
   "execution_count": 365,
   "metadata": {},
   "outputs": [],
   "source": [
    "output_image.save(\"../images/test_51.png\")"
   ]
  },
  {
   "cell_type": "code",
   "execution_count": null,
   "metadata": {},
   "outputs": [],
   "source": []
  }
 ],
 "metadata": {
  "kernelspec": {
   "display_name": "Python 3",
   "language": "python",
   "name": "python3"
  },
  "language_info": {
   "codemirror_mode": {
    "name": "ipython",
    "version": 3
   },
   "file_extension": ".py",
   "mimetype": "text/x-python",
   "name": "python",
   "nbconvert_exporter": "python",
   "pygments_lexer": "ipython3",
   "version": "3.7.3"
  }
 },
 "nbformat": 4,
 "nbformat_minor": 2
}
