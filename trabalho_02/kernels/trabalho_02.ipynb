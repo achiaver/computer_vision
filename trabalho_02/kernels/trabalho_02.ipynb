{
 "cells": [
  {
   "cell_type": "markdown",
   "metadata": {},
   "source": [
    "# Trabalho 2 - Operações de Vizinhança\n",
    "\n",
    "    1) Utilizando uma imagem qualquer, demonstre e compare os resultados da aplicação das aproximações de Sobel e Roberts para o filtro gradiente. Explique as diferenças nos resultados obtidos.\n",
    "\n",
    "    2) Utilizando a imagem descrita a seguir, analise os resultados das aplicações de filtros passa baixa 3 x 3 (todos coeficientes iguais a 1/9) e 7 x 7 (todos coeficientes iguais a 1/49)\n",
    "\n",
    "$$\n",
    "f(x,y) = \n",
    "\\begin{bmatrix}\n",
    "0 & 0 & 0 & 0 & 0 & 0 & 0 & 0 & 0 & 0 & 255 & 255 & 255 & 255 & 255 & 255 & 255 & 255 & 255 & 255 \\\\\n",
    "0 & 0 & 0 & 0 & 0 & 0 & 0 & 0 & 0 & 0 & 255 & 255 & 255 & 255 & 255 & 255 & 255 & 255 & 255 & 255 \\\\\n",
    "0 & 0 & 0 & 0 & 0 & 0 & 0 & 0 & 0 & 0 & 255 & 255 & 255 & 255 & 255 & 255 & 255 & 255 & 255 & 255 \\\\\n",
    "0 & 0 & 0 & 0 & 0 & 0 & 0 & 0 & 0 & 0 & 255 & 255 & 255 & 255 & 255 & 255 & 255 & 255 & 255 & 255 \\\\\n",
    "0 & 0 & 0 & 0 & 0 & 0 & 0 & 0 & 0 & 0 & 255 & 255 & 255 & 255 & 255 & 255 & 255 & 255 & 255 & 255 \\\\\n",
    "0 & 0 & 0 & 0 & 0 & 0 & 0 & 0 & 0 & 0 & 255 & 255 & 255 & 255 & 255 & 255 & 255 & 255 & 255 & 255 \\\\\n",
    "0 & 0 & 0 & 0 & 0 & 0 & 0 & 0 & 0 & 0 & 255 & 255 & 255 & 255 & 255 & 255 & 255 & 255 & 255 & 255 \\\\\n",
    "0 & 0 & 0 & 0 & 0 & 0 & 0 & 0 & 0 & 0 & 255 & 255 & 255 & 255 & 255 & 255 & 255 & 255 & 255 & 255 \\\\\n",
    "0 & 0 & 0 & 0 & 0 & 0 & 0 & 0 & 0 & 0 & 255 & 255 & 255 & 255 & 255 & 255 & 255 & 255 & 255 & 255 \\\\\n",
    "0 & 0 & 0 & 0 & 0 & 0 & 0 & 0 & 0 & 0 & 255 & 255 & 255 & 255 & 255 & 255 & 255 & 255 & 255 & 255 \\\\\n",
    "255 & 255 & 255 & 255 & 255 & 255 & 255 & 255 & 255 & 255 & 0 & 0 & 0 & 0 & 0 & 0 & 0 & 0 & 0 & 0 \\\\\n",
    "255 & 255 & 255 & 255 & 255 & 255 & 255 & 255 & 255 & 255 & 0 & 0 & 0 & 0 & 0 & 0 & 0 & 0 & 0 & 0 \\\\\n",
    "255 & 255 & 255 & 255 & 255 & 255 & 255 & 255 & 255 & 255 & 0 & 0 & 0 & 0 & 0 & 0 & 0 & 0 & 0 & 0 \\\\\n",
    "255 & 255 & 255 & 255 & 255 & 255 & 255 & 255 & 255 & 255 & 0 & 0 & 0 & 0 & 0 & 0 & 0 & 0 & 0 & 0 \\\\\n",
    "255 & 255 & 255 & 255 & 255 & 255 & 255 & 255 & 255 & 255 & 0 & 0 & 0 & 0 & 0 & 0 & 0 & 0 & 0 & 0 \\\\\n",
    "255 & 255 & 255 & 255 & 255 & 255 & 255 & 255 & 255 & 255 & 0 & 0 & 0 & 0 & 0 & 0 & 0 & 0 & 0 & 0 \\\\\n",
    "255 & 255 & 255 & 255 & 255 & 255 & 255 & 255 & 255 & 255 & 0 & 0 & 0 & 0 & 0 & 0 & 0 & 0 & 0 & 0 \\\\\n",
    "255 & 255 & 255 & 255 & 255 & 255 & 255 & 255 & 255 & 255 & 0 & 0 & 0 & 0 & 0 & 0 & 0 & 0 & 0 & 0 \\\\\n",
    "255 & 255 & 255 & 255 & 255 & 255 & 255 & 255 & 255 & 255 & 0 & 0 & 0 & 0 & 0 & 0 & 0 & 0 & 0 & 0 \\\\\n",
    "255 & 255 & 255 & 255 & 255 & 255 & 255 & 255 & 255 & 255 & 0 & 0 & 0 & 0 & 0 & 0 & 0 & 0 & 0 & 0\n",
    "\\end{bmatrix}\n",
    "$$\n",
    "\n",
    "    3) Utilizando a mesma imagem da questão 2, aplique os filtros (a), (b), (c) e (d), e explique os resultados obtidos\n",
    "\n",
    "        (a) Norte\n",
    "$$\n",
    "h(x,y) =\n",
    "\\begin{bmatrix}\n",
    "1 & 1 & 1 \\\\\n",
    "1 & -2 & 1 \\\\\n",
    "-1 & -1 & -1\n",
    "\\end{bmatrix}\n",
    "$$\n",
    "\n",
    "        (b) Sul\n",
    "$$\n",
    "h(x,y) =\n",
    "\\begin{bmatrix}\n",
    "-1 & -1 & -1 \\\\\n",
    "1 & -2 &  1 \\\\\n",
    "1 & 1 & 1\n",
    "\\end{bmatrix}\n",
    "$$\n",
    "\n",
    "        (c) Leste\n",
    "$$\n",
    "h(x,y) =\n",
    "\\begin{bmatrix}\n",
    "-1 & 1 & 1 \\\\\n",
    "-1 & -2 & 1 \\\\\n",
    "-1 & 1 & 1\n",
    "\\end{bmatrix}\n",
    "$$\n",
    "\n",
    "        (d) Sudeste\n",
    "$$    \n",
    "h(x,y) = \n",
    "\\begin{bmatrix}\n",
    "-1 & -1 & 1 \\\\\n",
    "-1 & -2 &  1 \\\\\n",
    "1 & 1 & 1\n",
    "\\end{bmatrix}\n",
    "$$\n",
    "\n",
    "Explique os resultados obtidos em função da teoria apresentada nas aulas."
   ]
  },
  {
   "cell_type": "markdown",
   "metadata": {},
   "source": [
    "# Bibliotecas"
   ]
  },
  {
   "cell_type": "code",
   "execution_count": 1,
   "metadata": {},
   "outputs": [],
   "source": [
    "import cv2 as cv\n",
    "import numpy as np\n",
    "\n",
    "import matplotlib.pyplot as plt\n",
    "\n",
    "%matplotlib inline"
   ]
  },
  {
   "cell_type": "markdown",
   "metadata": {},
   "source": [
    "-------\n",
    "\n",
    "# Parte (1)\n",
    "\n",
    "## Escolha da Imagem\n",
    "\n",
    "Para aplicar os filtros Sobel e Roberts de forma didática, podemos considerar uma imagem binária, que foi criada abaixo."
   ]
  },
  {
   "cell_type": "code",
   "execution_count": 5,
   "metadata": {},
   "outputs": [],
   "source": [
    "floor = np.zeros((50, 50))\n",
    "floor[10:41,10:41] = 255\n",
    "floor = floor.astype(np.float64)"
   ]
  },
  {
   "cell_type": "code",
   "execution_count": 6,
   "metadata": {},
   "outputs": [
    {
     "data": {
      "image/png": "[encoded data removed]",
      "text/plain": [
       "<Figure size 432x288 with 1 Axes>"
      ]
     },
     "metadata": {},
     "output_type": "display_data"
    }
   ],
   "source": [
    "plt.imshow(floor, cmap = 'gray')\n",
    "plt.xticks([])\n",
    "plt.yticks([])\n",
    "\n",
    "plt.show()"
   ]
  },
  {
   "cell_type": "markdown",
   "metadata": {},
   "source": [
    "## Convolução Espacial\n",
    "\n",
    "Quando trabalhamos com imagens, existem dois conceitos importantes relacionados à processos de filtragem da imagem, que são a correlação e a convolução espacial. Abaixo mostramos como é feita a correlação e a convolução, uma vez que para aplicarmos os filtros de Sobel e de Roberts precisamos saber realizar a operação de convolução.\n",
    "\n",
    "A correlação espacial é realizada por um filtro deslizante, que caminha sobre a imagem a ser filtrada, e computa a soma dos produtos em cada ponto. De forma análoga ocorre com a convolução espacial, entretanto, inicialmente, o filtro deslizante é girado em $180^{o}$ em relação a sua âncora (pixel central).\n",
    "\n",
    "Neste trabalho iremos utilizar o processo de convolução para filtrar imagens. \n",
    "\n",
    "Seja a matriz $A$, um filtro, da seguinte forma:\n",
    "$$\n",
    "A = \n",
    "\\begin{bmatrix}\n",
    "1 & 2 & 3 \\\\\n",
    "4 & 5 & 6 \\\\\n",
    "7 & 8 & 9\n",
    "\\end{bmatrix}\n",
    "$$\n",
    "\n",
    "A convolução do filtro $A$ com uma imagem $B$ é dada por\n",
    "$$\n",
    "A(x, y) \\star B(x, y) = \\sum\\limits^{a}_{s = -a} \\sum\\limits^{b}_{t = -b}A(x - s, y - t) B(x, y)\n",
    "$$\n",
    "\n",
    "onde $a$ e $b$ são os limites do filtro $A$. De forma pragmática, o filtro $A$ deve ser:\n",
    "\n",
    "    1) Virado  entorno de sua âncora horizontalmente e verticalmente;\n",
    "    2) Cada pixel do filtro é multiplicado por pixel correspondente da imagem (em relação à âncora);\n",
    "    3) Soma das multiplicações de pixel é atribuido ao pixel âncora.\n",
    "    \n",
    "O pixel âncora se refere àquele cuja coordenada é $(x, y)$, sendo, em geral, o pixel central.\n",
    "\n",
    "### Teste da Função ```flip``` do opencv\n",
    "\n",
    "A biblioteca **openvc** tem disponível uma função que vira a imagem. Virar (*flip*) a imagem não corresponde a pegar o transposto da matriz da imagem! E mostramos isso a seguir.\n",
    "\n",
    "Primeiro criamos a matriz $A$, que não é simétrica justamente para ficar mais evidente o resultado de virar a matriz em direntes direções."
   ]
  },
  {
   "cell_type": "code",
   "execution_count": 7,
   "metadata": {},
   "outputs": [
    {
     "data": {
      "text/plain": [
       "array([[1, 2, 3],\n",
       "       [4, 5, 6],\n",
       "       [7, 8, 9]])"
      ]
     },
     "execution_count": 7,
     "metadata": {},
     "output_type": "execute_result"
    }
   ],
   "source": [
    "A = np.array([[1, 2, 3],[4, 5, 6],[7, 8, 9]])\n",
    "A"
   ]
  },
  {
   "cell_type": "markdown",
   "metadata": {},
   "source": [
    "*flip* **Vertical**:\n",
    "    \n",
    "    - virar a matriz entorno do elemento 5 (âncora) verticalmente, isto é, a primeira e a última linha são trocadas."
   ]
  },
  {
   "cell_type": "code",
   "execution_count": 8,
   "metadata": {},
   "outputs": [
    {
     "data": {
      "text/plain": [
       "array([[7, 8, 9],\n",
       "       [4, 5, 6],\n",
       "       [1, 2, 3]], dtype=int32)"
      ]
     },
     "execution_count": 8,
     "metadata": {},
     "output_type": "execute_result"
    }
   ],
   "source": [
    "cv.flip(A, 0)"
   ]
  },
  {
   "cell_type": "markdown",
   "metadata": {},
   "source": [
    "*flip* **Horizontal**:\n",
    "\n",
    "    - virar a matriz entorno do elemento 5 horizontalmente, isto é, a primeira e a última coluna são trocadas."
   ]
  },
  {
   "cell_type": "code",
   "execution_count": 9,
   "metadata": {},
   "outputs": [
    {
     "data": {
      "text/plain": [
       "array([[3, 2, 1],\n",
       "       [6, 5, 4],\n",
       "       [9, 8, 7]], dtype=int32)"
      ]
     },
     "execution_count": 9,
     "metadata": {},
     "output_type": "execute_result"
    }
   ],
   "source": [
    "cv.flip(A, 1)"
   ]
  },
  {
   "cell_type": "markdown",
   "metadata": {},
   "source": [
    "*flip* **Ambas direções**:\n",
    "\n",
    "    - virar a matriz entorno do elemento 5 verticalmente e horizontalmente, isto é, a primeira e a última linha são trocadas, e depois a primeira e a última coluna são trocadas."
   ]
  },
  {
   "cell_type": "code",
   "execution_count": 10,
   "metadata": {},
   "outputs": [
    {
     "data": {
      "text/plain": [
       "array([[9, 8, 7],\n",
       "       [6, 5, 4],\n",
       "       [3, 2, 1]], dtype=int32)"
      ]
     },
     "execution_count": 10,
     "metadata": {},
     "output_type": "execute_result"
    }
   ],
   "source": [
    "cv.flip(A, -1)"
   ]
  },
  {
   "cell_type": "markdown",
   "metadata": {},
   "source": [
    "Diferença com a operação de transposição. Podemos ver que o resultado da transposição não corresponte a nenhuma das operações acima."
   ]
  },
  {
   "cell_type": "code",
   "execution_count": 11,
   "metadata": {
    "scrolled": true
   },
   "outputs": [
    {
     "data": {
      "text/plain": [
       "array([[1, 4, 7],\n",
       "       [2, 5, 8],\n",
       "       [3, 6, 9]], dtype=int32)"
      ]
     },
     "execution_count": 11,
     "metadata": {},
     "output_type": "execute_result"
    }
   ],
   "source": [
    "cv.transpose(A)"
   ]
  },
  {
   "cell_type": "markdown",
   "metadata": {},
   "source": [
    "## Filtro Sobel e Roberts\n",
    "\n",
    "A seguir iremos comparar a aplicação dos filtros Sobel e Roberts. Tais filtros, em geral, são utilizados para detecção de bordas, e são aproximações para determinar o gradiente da imagem.\n",
    "\n",
    "O operador gradiente é dado por:\n",
    "$$\n",
    "\\nabla = \n",
    "\\begin{bmatrix}\n",
    "\\frac{\\partial}{\\partial x} \\\\\n",
    "\\frac{\\partial}{\\partial y}\n",
    "\\end{bmatrix}\n",
    "$$\n",
    "\n",
    "As componentes do operador gradiente correspondem as derivadas horizontal e vertical, que são convoluidas com a imagem a ser filtrada. \n",
    "\n",
    "### Filtro Sobel\n",
    "\n",
    "O filtro Sobel consiste na aplicação de dois **kernels** na imagem. Os **kernels** são dados por:\n",
    "$$\n",
    "k_{1} =\n",
    "\\begin{bmatrix}\n",
    "1 & 0 -1 \\\\\n",
    "2 & 0 -2 \\\\\n",
    "1 & 0 -1 \n",
    "\\end{bmatrix}\n",
    "$$\n",
    "\n",
    "$$\n",
    "k_{2} =\n",
    "\\begin{bmatrix}\n",
    "1 & 2 & 1 \\\\\n",
    "0 & 0 & 0 \\\\\n",
    "-1 & -2 & -1\n",
    "\\end{bmatrix}\n",
    "$$\n",
    "\n",
    "### Filtro Roberts\n",
    "\n",
    "O filtro Roberts tem os seguintes **kernels**:\n",
    "$$\n",
    "k_{1} =\n",
    "\\begin{bmatrix}\n",
    "1 & 0 \\\\\n",
    "0 & -1\n",
    "\\end{bmatrix}\n",
    "$$\n",
    "\n",
    "$$\n",
    "k_{2} =\n",
    "\\begin{bmatrix}\n",
    "0 & 1 \\\\\n",
    "-1 & 0\n",
    "\\end{bmatrix}\n",
    "$$\n",
    "\n",
    "### Aplicando os filtros\n",
    "\n",
    "Uma vez que os **kernels** são aplicados na imagem $A$, temos $G_{x} = k_{1} \\star A$ e $G_{y} = k_{2} \\star A$. Assim, podemos computar a magnitude $||G||$ e a direção $\\Theta$, que são dados por\n",
    "$$\n",
    "||G|| = \\sqrt{G^{2}_{x} + G^{2}_{y}}\n",
    "$$\n",
    "e\n",
    "$$\n",
    "\\Theta = \\arctan{\\left(\\frac{G_{y}}{G_{x}}\\right)}\n",
    "$$"
   ]
  },
  {
   "cell_type": "code",
   "execution_count": 12,
   "metadata": {},
   "outputs": [],
   "source": [
    "k_sobelx = np.array([[1, 0, -1], [2, 0, -2], [1, 0, -1]])\n",
    "k_sobely = np.array([[1, 2, 1], [0, 0, 0], [-1, -2, -1]])\n",
    "\n",
    "k_robertsx = np.array([[1, 0], [0, -1]])\n",
    "k_robertsy = np.array([[0, 1], [-1, 0]])"
   ]
  },
  {
   "cell_type": "code",
   "execution_count": 13,
   "metadata": {},
   "outputs": [],
   "source": [
    "sobelx = cv.Sobel(floor, cv.CV_64F, 1, 0, ksize = 3)\n",
    "sobely = cv.Sobel(floor, cv.CV_64F, 0, 1, ksize = 3)\n",
    "sobel = cv.convertScaleAbs(sobelx) + cv.convertScaleAbs(sobely)"
   ]
  },
  {
   "cell_type": "code",
   "execution_count": 14,
   "metadata": {
    "scrolled": false
   },
   "outputs": [
    {
     "data": {
      "image/png": "[encoded data removed]",
      "text/plain": [
       "<Figure size 1080x504 with 4 Axes>"
      ]
     },
     "metadata": {
      "needs_background": "light"
     },
     "output_type": "display_data"
    }
   ],
   "source": [
    "fig = plt.figure(figsize = (15, 7))\n",
    "\n",
    "plt.subplot(2, 2, 1)\n",
    "plt.imshow(floor, cmap = 'gray')\n",
    "plt.title('Original')\n",
    "plt.axis('off')\n",
    "\n",
    "plt.subplot(2, 2, 2)\n",
    "plt.imshow(sobel, cmap = 'gray')\n",
    "plt.title('Sobel')\n",
    "plt.axis('off')\n",
    "\n",
    "plt.subplot(2, 2, 3)\n",
    "plt.imshow(cv.convertScaleAbs(sobelx), cmap = 'gray')\n",
    "plt.title('Sobel X')\n",
    "plt.axis('off')\n",
    "\n",
    "plt.subplot(2, 2, 4)\n",
    "plt.imshow(cv.convertScaleAbs(sobely), cmap = 'gray')\n",
    "plt.title('Sobel Y')\n",
    "plt.axis('off')\n",
    "\n",
    "plt.tight_layout()\n",
    "plt.show()"
   ]
  },
  {
   "cell_type": "code",
   "execution_count": 15,
   "metadata": {},
   "outputs": [],
   "source": [
    "sobelx_1 = cv.convertScaleAbs(cv.filter2D(floor, cv.CV_64F, cv.flip(k_sobelx, -1)))\n",
    "sobely_1 = cv.convertScaleAbs(cv.filter2D(floor, cv.CV_64F, cv.flip(k_sobely, -1)))\n",
    "sobel_1 = sobelx_1 + sobely_1"
   ]
  },
  {
   "cell_type": "markdown",
   "metadata": {},
   "source": [
    "Acima fizemos a aplicação direta da função ```Sobel``` presente na biblioteca **opencv**. Podemos compara este resultado se aplicarmos os kernels através da função ```filter2D```, e encontramos o mesmo resultado, como podemos ver nas imagens a seguir."
   ]
  },
  {
   "cell_type": "code",
   "execution_count": 16,
   "metadata": {},
   "outputs": [
    {
     "data": {
      "image/png": "[encoded data removed]",
      "text/plain": [
       "<Figure size 1080x504 with 4 Axes>"
      ]
     },
     "metadata": {
      "needs_background": "light"
     },
     "output_type": "display_data"
    }
   ],
   "source": [
    "fig = plt.figure(figsize = (15, 7))\n",
    "\n",
    "plt.subplot(2, 2, 1)\n",
    "plt.imshow(floor, cmap = 'gray')\n",
    "plt.title('Original')\n",
    "plt.axis('off')\n",
    "\n",
    "plt.subplot(2, 2, 2)\n",
    "plt.imshow(sobel_1, cmap = 'gray')\n",
    "plt.title('Sobel')\n",
    "plt.axis('off')\n",
    "\n",
    "plt.subplot(2, 2, 3)\n",
    "plt.imshow(sobelx_1, cmap = 'gray')\n",
    "plt.title('Sobel X')\n",
    "plt.axis('off')\n",
    "\n",
    "plt.subplot(2, 2, 4)\n",
    "plt.imshow(sobely_1, cmap = 'gray')\n",
    "plt.title('Sobel Y')\n",
    "plt.axis('off')\n",
    "\n",
    "plt.tight_layout()\n",
    "plt.show()"
   ]
  },
  {
   "cell_type": "code",
   "execution_count": 17,
   "metadata": {},
   "outputs": [
    {
     "data": {
      "text/plain": [
       "True"
      ]
     },
     "execution_count": 17,
     "metadata": {},
     "output_type": "execute_result"
    }
   ],
   "source": [
    "np.all((sobel - sobel_1) == 0) "
   ]
  },
  {
   "cell_type": "code",
   "execution_count": 18,
   "metadata": {},
   "outputs": [],
   "source": [
    "robertsx = cv.convertScaleAbs(cv.filter2D(floor, cv.CV_64F, cv.flip(k_robertsx, -1)))\n",
    "robertsy = cv.convertScaleAbs(cv.filter2D(floor, cv.CV_64F, cv.flip(k_robertsy, -1)))\n",
    "roberts = robertsx + robertsy"
   ]
  },
  {
   "cell_type": "code",
   "execution_count": 19,
   "metadata": {},
   "outputs": [
    {
     "data": {
      "image/png": "[encoded data removed]",
      "text/plain": [
       "<Figure size 1080x504 with 4 Axes>"
      ]
     },
     "metadata": {
      "needs_background": "light"
     },
     "output_type": "display_data"
    }
   ],
   "source": [
    "fig = plt.figure(figsize = (15, 7))\n",
    "\n",
    "plt.subplot(2, 2, 1)\n",
    "plt.imshow(floor, cmap = 'gray')\n",
    "plt.title('Original')\n",
    "plt.axis('off')\n",
    "\n",
    "plt.subplot(2, 2, 2)\n",
    "plt.imshow(roberts, cmap = 'gray')\n",
    "plt.title('Roberts')\n",
    "plt.axis('off')\n",
    "\n",
    "plt.subplot(2, 2, 3)\n",
    "plt.imshow(cv.convertScaleAbs(robertsx), cmap = 'gray')\n",
    "plt.title('Roberts X')\n",
    "plt.axis('off')\n",
    "\n",
    "plt.subplot(2, 2, 4)\n",
    "plt.imshow(robertsy, cmap = 'gray')\n",
    "plt.title('Roberts Y')\n",
    "plt.axis('off')\n",
    "\n",
    "plt.tight_layout()\n",
    "plt.show()"
   ]
  },
  {
   "cell_type": "code",
   "execution_count": 20,
   "metadata": {},
   "outputs": [
    {
     "data": {
      "image/png": "[encoded data removed]",
      "text/plain": [
       "<Figure size 1080x504 with 3 Axes>"
      ]
     },
     "metadata": {
      "needs_background": "light"
     },
     "output_type": "display_data"
    }
   ],
   "source": [
    "fig = plt.figure(figsize = (15, 7))\n",
    "\n",
    "plt.subplot(1, 3, 1)\n",
    "plt.imshow(sobel, cmap = 'gray')\n",
    "plt.title('Sobel')\n",
    "plt.axis('off')\n",
    "\n",
    "plt.subplot(1, 3, 2)\n",
    "plt.imshow(floor, cmap = 'gray')\n",
    "plt.title('Original')\n",
    "plt.axis('off')\n",
    "\n",
    "plt.subplot(1, 3, 3)\n",
    "plt.imshow(roberts, cmap = 'gray')\n",
    "plt.title('Roberts')\n",
    "plt.axis('off')\n",
    "\n",
    "plt.tight_layout()\n",
    "plt.show()"
   ]
  },
  {
   "cell_type": "code",
   "execution_count": 21,
   "metadata": {
    "scrolled": true
   },
   "outputs": [
    {
     "data": {
      "text/plain": [
       "array([[0, 0, 0, ..., 0, 0, 0],\n",
       "       [0, 0, 0, ..., 0, 0, 0],\n",
       "       [0, 0, 0, ..., 0, 0, 0],\n",
       "       ...,\n",
       "       [0, 0, 0, ..., 0, 0, 0],\n",
       "       [0, 0, 0, ..., 0, 0, 0],\n",
       "       [0, 0, 0, ..., 0, 0, 0]], dtype=uint8)"
      ]
     },
     "execution_count": 21,
     "metadata": {},
     "output_type": "execute_result"
    }
   ],
   "source": [
    "sobel - roberts"
   ]
  },
  {
   "cell_type": "markdown",
   "metadata": {},
   "source": [
    "-------\n",
    "\n",
    "# Parte (2)"
   ]
  },
  {
   "cell_type": "code",
   "execution_count": 25,
   "metadata": {},
   "outputs": [],
   "source": [
    "img = np.zeros((20, 20))\n",
    "img[0:10,10:] = 255\n",
    "img[10:,0:10] = 255\n",
    "img = img.astype(np.float64)"
   ]
  },
  {
   "cell_type": "code",
   "execution_count": 26,
   "metadata": {},
   "outputs": [
    {
     "data": {
      "image/png": "[encoded data removed]",
      "text/plain": [
       "<Figure size 1080x504 with 1 Axes>"
      ]
     },
     "metadata": {},
     "output_type": "display_data"
    }
   ],
   "source": [
    "fig = plt.figure(figsize = (15, 7))\n",
    "\n",
    "plt.imshow(img, cmap = 'gray')\n",
    "plt.title('Original Image')\n",
    "plt.xticks([])\n",
    "plt.yticks([])\n",
    "\n",
    "plt.show()"
   ]
  },
  {
   "cell_type": "code",
   "execution_count": 27,
   "metadata": {},
   "outputs": [],
   "source": [
    "low_pass_1 = np.zeros((3, 3))\n",
    "low_pass_1[:,:] = 1 / 9.\n",
    "# low_pass_1"
   ]
  },
  {
   "cell_type": "code",
   "execution_count": 28,
   "metadata": {},
   "outputs": [],
   "source": [
    "low_pass_2 = np.zeros((7, 7))\n",
    "low_pass_2[:,:] = 1 / 49.\n",
    "# low_pass_2"
   ]
  },
  {
   "cell_type": "code",
   "execution_count": 29,
   "metadata": {},
   "outputs": [],
   "source": [
    "img_low_1 = cv.convertScaleAbs(cv.filter2D(img, -1, low_pass_1))\n",
    "img_low_2 = cv.convertScaleAbs(cv.filter2D(img, -1, low_pass_2))"
   ]
  },
  {
   "cell_type": "code",
   "execution_count": 30,
   "metadata": {},
   "outputs": [
    {
     "data": {
      "image/png": "[encoded data removed]",
      "text/plain": [
       "<Figure size 1080x504 with 3 Axes>"
      ]
     },
     "metadata": {},
     "output_type": "display_data"
    }
   ],
   "source": [
    "fig = plt.figure(figsize = (15, 7))\n",
    "\n",
    "plt.subplot(1, 3, 1)\n",
    "plt.imshow(img, cmap = 'gray')\n",
    "plt.title('Original')\n",
    "plt.xticks([])\n",
    "plt.yticks([])\n",
    "\n",
    "plt.subplot(1, 3, 2)\n",
    "plt.imshow(img_low_1, cmap = 'gray')\n",
    "plt.title('Low-Pass 3 x 3 (1/9)')\n",
    "plt.xticks([])\n",
    "plt.yticks([])\n",
    "\n",
    "plt.subplot(1, 3, 3)\n",
    "plt.imshow(img_low_2, cmap = 'gray')\n",
    "plt.title('Low-Pass 7 x 7 (1/49)')\n",
    "plt.xticks([])\n",
    "plt.yticks([])\n",
    "\n",
    "plt.tight_layout()\n",
    "plt.show()"
   ]
  },
  {
   "cell_type": "markdown",
   "metadata": {},
   "source": [
    "-------\n",
    "\n",
    "# Parte (3)"
   ]
  },
  {
   "cell_type": "code",
   "execution_count": 31,
   "metadata": {},
   "outputs": [],
   "source": [
    "norte = np.array([[1, 1, 1], [1, -2, 1], [-1, -1, -1]], dtype = 'float64')\n",
    "sul = np.array([[-1, -1, -1], [1, -2, 1], [1, 1, 1]], dtype = 'float64')\n",
    "leste = np.array([[-1, 1, 1], [-1, -2, 1], [-1, 1, 1]], dtype = 'float64')\n",
    "sudeste = np.array([[-1, -1, 1], [-1, -2, 1], [1, 1, 1]], dtype = 'float64')"
   ]
  },
  {
   "cell_type": "code",
   "execution_count": 32,
   "metadata": {},
   "outputs": [],
   "source": [
    "img_norte = cv.convertScaleAbs(cv.filter2D(img, -1, cv.flip(norte, -1)))\n",
    "img_sul = cv.convertScaleAbs(cv.filter2D(img, -1, cv.flip(sul, -1)))\n",
    "img_leste = cv.convertScaleAbs(cv.filter2D(img, -1, cv.flip(leste, -1)))\n",
    "img_sudeste = cv.convertScaleAbs(cv.filter2D(img, -1, cv.flip(sudeste, -1)))"
   ]
  },
  {
   "cell_type": "code",
   "execution_count": 33,
   "metadata": {},
   "outputs": [
    {
     "data": {
      "image/png": "[encoded data removed]",
      "text/plain": [
       "<Figure size 1080x504 with 4 Axes>"
      ]
     },
     "metadata": {},
     "output_type": "display_data"
    }
   ],
   "source": [
    "fig = plt.figure(figsize = (15, 7))\n",
    "\n",
    "plt.subplot(2, 2, 1)\n",
    "plt.imshow(img_norte, cmap = 'gray')\n",
    "plt.title('Norte')\n",
    "plt.xticks([])\n",
    "plt.yticks([])\n",
    "\n",
    "plt.subplot(2, 2, 2)\n",
    "plt.imshow(img_sul, cmap = 'gray')\n",
    "plt.title('Sul')\n",
    "plt.xticks([])\n",
    "plt.yticks([])\n",
    "\n",
    "plt.subplot(2, 2, 3)\n",
    "plt.imshow(img_leste, cmap = 'gray')\n",
    "plt.title('Leste')\n",
    "plt.xticks([])\n",
    "plt.yticks([])\n",
    "\n",
    "plt.subplot(2, 2, 4)\n",
    "plt.imshow(img_sudeste, cmap = 'gray')\n",
    "plt.title('Sudeste')\n",
    "plt.xticks([])\n",
    "plt.yticks([])\n",
    "\n",
    "plt.tight_layout()\n",
    "plt.show()"
   ]
  },
  {
   "cell_type": "code",
   "execution_count": null,
   "metadata": {},
   "outputs": [],
   "source": [
    "def correlacao_pearson(m1, m2):\n",
    "    m, n = m1.shape\n",
    "    \n",
    "    m1_mean = matrix_mean(m1)\n",
    "    m2_mean = matrix_mean(m2)\n",
    "    \n",
    "    num = np.sum((m1 - m1_mean) * (m2 - m2_mean))\n",
    "    den = np.sqrt(np.sum((m1 - m1_mean)**2)) * np.sqrt(np.sum((m2 - m2_mean)**2))\n",
    "    \n",
    "    return num / den"
   ]
  },
  {
   "cell_type": "code",
   "execution_count": null,
   "metadata": {},
   "outputs": [],
   "source": [
    "def matrix_mean(mat):\n",
    "    m, n = mat.shape\n",
    "    return np.sum(mat) / (m * n)"
   ]
  }
 ],
 "metadata": {
  "kernelspec": {
   "display_name": "Python 2",
   "language": "python",
   "name": "python2"
  },
  "language_info": {
   "codemirror_mode": {
    "name": "ipython",
    "version": 2
   },
   "file_extension": ".py",
   "mimetype": "text/x-python",
   "name": "python",
   "nbconvert_exporter": "python",
   "pygments_lexer": "ipython2",
   "version": "2.7.15"
  },
  "latex_envs": {
   "LaTeX_envs_menu_present": true,
   "autoclose": true,
   "autocomplete": true,
   "bibliofile": "biblio.bib",
   "cite_by": "apalike",
   "current_citInitial": 1,
   "eqLabelWithNumbers": true,
   "eqNumInitial": 1,
   "hotkeys": {
    "equation": "Ctrl-E",
    "itemize": "Ctrl-I"
   },
   "labels_anchors": false,
   "latex_user_defs": false,
   "report_style_numbering": false,
   "user_envs_cfg": false
  }
 },
 "nbformat": 4,
 "nbformat_minor": 2
}
