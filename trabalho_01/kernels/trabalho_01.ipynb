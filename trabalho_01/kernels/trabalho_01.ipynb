{
 "cells": [
  {
   "cell_type": "markdown",
   "metadata": {},
   "source": [
    "# Trabalho 1\n",
    "# Codificação de arquivos e operações pontuais\n",
    "\n",
    "-------\n",
    "\n",
    "1) Utilizando a seguinte [imagem colorida](https://ead.ime.uerj.br/pluginfile.php/176/mod_assign/intro/VisaoTrab1.tiff), implemente  e demonstre as diferenças entre as versões a serem salvas nos formatos de arquivo a seguir: \n",
    "\n",
    "* jpeg -10%\n",
    "* jpeg -50%\n",
    "* jpeg -90%\n",
    "* TIFF - LZW\n",
    "\n",
    "Para diferenciar as imagens armazenadas nos arquivos da imagem original utilize como métrica a média do erro quadrático dos pixels em cada um dos canais e o tamanho dos arquivos.\n",
    "\n",
    "Explique os resultados obtidos em função da teoria apresentada nas aulas.\n",
    "\n",
    "-------\n",
    "\n",
    "2) Utilizando mesma [imagem colorida](https://ead.ime.uerj.br/pluginfile.php/176/mod_assign/intro/VisaoTrab1.tiff), implemente uma correção gama para corrigir a luminância da face do bebê. Para tanto são necessários os seguintes passos:\n",
    "\n",
    "* Leitura da imagem de entrada no formato colorido rgb do openCV\n",
    "* Conversão do sistema de cor da imagem para hsv\n",
    "* Aplicação da correção gama sobre o canal v\n",
    "* Conversão da imagem resultante para rgb\n",
    "* Salvar a imagem no formato tiff sem compressão.\n",
    "\n",
    "Explique os resultados obtidos em função da teoria apresentada nas aulas. Utilize como fermenta o histograma das imagens.\n",
    "\n",
    "-------"
   ]
  },
  {
   "cell_type": "code",
   "execution_count": 2,
   "metadata": {},
   "outputs": [],
   "source": [
    "import cv2\n",
    "import numpy as np"
   ]
  },
  {
   "cell_type": "code",
   "execution_count": null,
   "metadata": {},
   "outputs": [],
   "source": []
  },
  {
   "cell_type": "code",
   "execution_count": null,
   "metadata": {},
   "outputs": [],
   "source": []
  }
 ],
 "metadata": {
  "kernelspec": {
   "display_name": "Python 3",
   "language": "python",
   "name": "python3"
  },
  "language_info": {
   "codemirror_mode": {
    "name": "ipython",
    "version": 3
   },
   "file_extension": ".py",
   "mimetype": "text/x-python",
   "name": "python",
   "nbconvert_exporter": "python",
   "pygments_lexer": "ipython3",
   "version": "3.7.0"
  },
  "latex_envs": {
   "LaTeX_envs_menu_present": true,
   "autoclose": true,
   "autocomplete": true,
   "bibliofile": "biblio.bib",
   "cite_by": "apalike",
   "current_citInitial": 1,
   "eqLabelWithNumbers": true,
   "eqNumInitial": 1,
   "hotkeys": {
    "equation": "Ctrl-E",
    "itemize": "Ctrl-I"
   },
   "labels_anchors": false,
   "latex_user_defs": false,
   "report_style_numbering": false,
   "user_envs_cfg": false
  }
 },
 "nbformat": 4,
 "nbformat_minor": 2
}
